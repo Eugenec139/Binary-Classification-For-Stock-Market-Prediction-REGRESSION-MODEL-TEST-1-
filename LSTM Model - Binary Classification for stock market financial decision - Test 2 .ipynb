{
 "cells": [
  {
   "cell_type": "markdown",
   "metadata": {},
   "source": [
    "Author: Sid Ali Rezetane\n",
    "\n",
    "Binary Classification for stock market financial decisions : Regression Model Using LSTM units to predict future values of \n",
    "Closing_prices, Opening_Prices \n",
    "3 LSTM Models are built : using OHLC_Avg (the daily average of Opening Closing Maximum and Minimum prices), Closing_Prices, Opening_Prices \n",
    "Prediction of closing and opening prices using the three models then conclude daily labels and compare accuracy of models \n"
   ]
  },
  {
   "cell_type": "markdown",
   "metadata": {},
   "source": [
    "Data Used : Opening Prices,Max Prices,Min Prices,Closing Prices, Labels"
   ]
  },
  {
   "cell_type": "code",
   "execution_count": 15,
   "metadata": {},
   "outputs": [],
   "source": [
    "# IMPORTING IMPORTANT LIBRARIES\n",
    "import pandas as pd\n",
    "import matplotlib.pyplot as plt\n",
    "import numpy as np \n",
    "import math\n",
    "from sklearn.preprocessing import MinMaxScaler\n",
    "from sklearn.metrics import mean_squared_error\n",
    "from keras.models import Sequential\n",
    "from keras.layers import Dense, Activation, Dropout\n",
    "\n",
    "from keras.layers import LSTM\n",
    "import preprocessing"
   ]
  },
  {
   "cell_type": "markdown",
   "metadata": {},
   "source": [
    "define step size, load data and plot"
   ]
  },
  {
   "cell_type": "code",
   "execution_count": 16,
   "metadata": {},
   "outputs": [
    {
     "data": {
      "image/png": "[encoded data removed]",
      "text/plain": [
       "<matplotlib.figure.Figure at 0x18c3fe5f98>"
      ]
     },
     "metadata": {},
     "output_type": "display_data"
    }
   ],
   "source": [
    "step_size = 1\n",
    "# FOR REPRODUCIBILITY\n",
    "np.random.seed(7)\n",
    "\n",
    "# IMPORTING DATASET \n",
    "dataset = pd.read_csv('prova.csv', usecols=[1,2,3,4,5,6,7])\n",
    "#dataset = dataset.reindex(index = dataset.index[::-1])\n",
    "\n",
    "# CREATING OWN INDEX FOR FLEXIBILITY\n",
    "obs = np.arange(1, len(dataset) + 1, 1)\n",
    "\n",
    "# TAKING DIFFERENT INDICATORS FOR PREDICTION\n",
    "#OHLC_avg = dataset.mean(axis = 1)\n",
    "OHLC_avg =  dataset[['OHLC_avg']]\n",
    "HLC_avg = dataset[['High', 'Low', 'Close']].mean(axis = 1)\n",
    "close_val = dataset[['Close']]\n",
    "open_val = dataset[['Open']]\n",
    "\n",
    "labels =  dataset[['Label']]\n",
    "classes =  preprocessing.classify(np.asarray(close_val),np.asarray(open_val))\n",
    "classes = np.asarray(classes)\n",
    "\n",
    "# PLOTTING ALL INDICATORS IN ONE PLOT\n",
    "plt.plot(obs, OHLC_avg, 'r', label = 'OHLC avg')\n",
    "plt.plot(obs, open_val, 'b', label = 'Opening Price')\n",
    "plt.plot(obs, close_val, 'g', label = 'Closing price')\n",
    "plt.legend(loc = 'upper right')\n",
    "plt.show()"
   ]
  },
  {
   "cell_type": "markdown",
   "metadata": {},
   "source": [
    "scale down the data values using minimax and split data using 80% ratio"
   ]
  },
  {
   "cell_type": "code",
   "execution_count": 17,
   "metadata": {},
   "outputs": [],
   "source": [
    "# PREPARATION OF TIME SERIES DATASE\n",
    "OHLC_avg = np.reshape(OHLC_avg.values, (len(OHLC_avg),1)) \n",
    "close_val = np.reshape(close_val.values, (len(close_val),1))\n",
    "open_val = np.reshape(open_val.values, (len(open_val),1)) \n",
    "scaler = MinMaxScaler(feature_range=(0, 1))\n",
    "OHLC_avg = scaler.fit_transform(OHLC_avg)\n",
    "close_val = scaler.fit_transform(close_val)\n",
    "open_val = scaler.fit_transform(open_val)\n",
    "#classes = np.reshape(classes.values, len(classes))\n",
    "#\n",
    "## TRAIN-TEST SPLIT\n",
    "train_OHLCs = int(len(OHLC_avg) * 0.8)\n",
    "test_OHLCs = len(OHLC_avg) - train_OHLCs\n",
    "train_classes , test_classes = classes[0:train_OHLCs] ,classes[train_OHLCs:len(OHLC_avg)-1] \n",
    "train_OHLC, test_OHLC = OHLC_avg[0:train_OHLCs,:], OHLC_avg[train_OHLCs:len(OHLC_avg),:]\n",
    "train_close, test_close = close_val[0:train_OHLCs,:], close_val[train_OHLCs:len(OHLC_avg),:]\n",
    "train_open, test_open = open_val[0:train_OHLCs,:], open_val[train_OHLCs:len(OHLC_avg),:]\n",
    "#"
   ]
  },
  {
   "cell_type": "markdown",
   "metadata": {},
   "source": [
    "Turn data into time series dataset then reshape it to fit the model "
   ]
  },
  {
   "cell_type": "code",
   "execution_count": 18,
   "metadata": {},
   "outputs": [],
   "source": [
    "# TIME-SERIES DATASET (FOR TIME T, VALUES FOR TIME T+1)\n",
    "trainX_OHLC, trainY_OHLC = preprocessing.new_dataset(train_OHLC, step_size)\n",
    "testX_OHLC, testY_OHLC = preprocessing.new_dataset(test_OHLC, step_size)\n",
    "\n",
    "trainX_close, trainY_close = preprocessing.new_dataset(train_close, step_size)\n",
    "testX_close, testY_close = preprocessing.new_dataset(test_close, step_size)\n",
    "\n",
    "trainX_open, trainY_open = preprocessing.new_dataset(train_open, step_size)\n",
    "testX_open, testY_open = preprocessing.new_dataset(test_open, step_size)\n",
    "\n",
    "# RESHAPING TRAIN AND TEST DATA\n",
    "trainX_OHLC = np.reshape(trainX_OHLC, (trainX_OHLC.shape[0], 1, trainX_OHLC.shape[1]))\n",
    "testX_OHLC = np.reshape(testX_OHLC, (testX_OHLC.shape[0], 1, testX_OHLC.shape[1]))\n",
    "\n",
    "trainX_close = np.reshape(trainX_close, (trainX_close.shape[0], 1, trainX_close.shape[1]))\n",
    "testX_close = np.reshape(testX_close, (testX_close.shape[0], 1, testX_close.shape[1]))\n",
    "\n",
    "trainX_open = np.reshape(trainX_open, (trainX_open.shape[0], 1, trainX_open.shape[1]))\n",
    "testX_open = np.reshape(testX_open, (testX_open.shape[0], 1, testX_open.shape[1]))\n",
    "#"
   ]
  },
  {
   "cell_type": "markdown",
   "metadata": {},
   "source": [
    "Set the three models \n",
    "first layer : LSTM 64 neuros with return sequence feature\n",
    "Dropout 15% of neuros to avoid overfitting\n",
    "second layer : Activation function ( Rectified Linear )\n",
    "Third layer : LSTM 32 neuros \n",
    "Forth Layer : Dense neuron\n",
    "Fifth Layer : Activation function ( Linear )"
   ]
  },
  {
   "cell_type": "code",
   "execution_count": 19,
   "metadata": {},
   "outputs": [],
   "source": [
    "# LSTM MODEL OHCL\n",
    "model_OHLC= Sequential()\n",
    "model_OHLC.add(LSTM(64, input_shape=(1, step_size), return_sequences = True))\n",
    "model_OHLC.add(Dropout(0.15))\n",
    "model_OHLC.add(Activation('relu'))\n",
    "model_OHLC.add(LSTM(32))\n",
    "model_OHLC.add(Dense(1))\n",
    "model_OHLC.add(Activation('linear'))\n",
    "\n",
    "\n",
    "# LSTM MODEL Open\n",
    "model_open= Sequential()\n",
    "model_open.add(LSTM(64, input_shape=(1, step_size), return_sequences = True))\n",
    "model_open.add(Activation('relu'))\n",
    "model_open.add(LSTM(32))\n",
    "model_open.add(Dense(1))\n",
    "model_open.add(Activation('linear'))\n",
    "\n",
    "\n",
    "# LSTM MODEL Close\n",
    "model_close= Sequential()\n",
    "model_close.add(LSTM(64, input_shape=(1, step_size), return_sequences = True))\n",
    "model_close.add(Activation('relu'))\n",
    "model_close.add(LSTM(32))\n",
    "model_close.add(Dense(1))\n",
    "model_close.add(Activation('linear'))\n"
   ]
  },
  {
   "cell_type": "markdown",
   "metadata": {},
   "source": [
    "Compile : Loss function Mean Squared error, Optimizer : Adagrad \n",
    "Fit the model to training data, set 25 epochs and 10 batch sizes for training \n",
    "then predict"
   ]
  },
  {
   "cell_type": "code",
   "execution_count": 20,
   "metadata": {},
   "outputs": [
    {
     "name": "stdout",
     "output_type": "stream",
     "text": [
      "Epoch 1/25\n",
      " - 4s - loss: 0.0033 - acc: 2.4319e-04\n",
      "Epoch 2/25\n",
      " - 2s - loss: 5.2752e-04 - acc: 2.4319e-04\n",
      "Epoch 3/25\n",
      " - 2s - loss: 4.5840e-04 - acc: 2.4319e-04\n",
      "Epoch 4/25\n",
      " - 2s - loss: 4.2692e-04 - acc: 2.4319e-04\n",
      "Epoch 5/25\n",
      " - 2s - loss: 4.0832e-04 - acc: 2.4319e-04\n",
      "Epoch 6/25\n",
      " - 1s - loss: 4.1591e-04 - acc: 2.4319e-04\n",
      "Epoch 7/25\n",
      " - 2s - loss: 3.9012e-04 - acc: 2.4319e-04\n",
      "Epoch 8/25\n",
      " - 1s - loss: 3.8615e-04 - acc: 2.4319e-04\n",
      "Epoch 9/25\n",
      " - 1s - loss: 3.9174e-04 - acc: 2.4319e-04\n",
      "Epoch 10/25\n",
      " - 1s - loss: 3.8015e-04 - acc: 2.4319e-04\n",
      "Epoch 11/25\n",
      " - 1s - loss: 3.8648e-04 - acc: 2.4319e-04\n",
      "Epoch 12/25\n",
      " - 1s - loss: 3.9514e-04 - acc: 2.4319e-04\n",
      "Epoch 13/25\n",
      " - 2s - loss: 3.7301e-04 - acc: 2.4319e-04\n",
      "Epoch 14/25\n",
      " - 2s - loss: 3.8659e-04 - acc: 2.4319e-04\n",
      "Epoch 15/25\n",
      " - 2s - loss: 3.6278e-04 - acc: 2.4319e-04\n",
      "Epoch 16/25\n",
      " - 2s - loss: 3.8593e-04 - acc: 2.4319e-04\n",
      "Epoch 17/25\n",
      " - 2s - loss: 3.7045e-04 - acc: 2.4319e-04\n",
      "Epoch 18/25\n",
      " - 2s - loss: 3.6597e-04 - acc: 2.4319e-04\n",
      "Epoch 19/25\n",
      " - 1s - loss: 3.6815e-04 - acc: 2.4319e-04\n",
      "Epoch 20/25\n",
      " - 1s - loss: 3.4788e-04 - acc: 2.4319e-04\n",
      "Epoch 21/25\n",
      " - 1s - loss: 3.6427e-04 - acc: 2.4319e-04\n",
      "Epoch 22/25\n",
      " - 1s - loss: 3.5626e-04 - acc: 2.4319e-04\n",
      "Epoch 23/25\n",
      " - 2s - loss: 3.6187e-04 - acc: 2.4319e-04\n",
      "Epoch 24/25\n",
      " - 2s - loss: 3.5978e-04 - acc: 2.4319e-04\n",
      "Epoch 25/25\n",
      " - 2s - loss: 3.5457e-04 - acc: 2.4319e-04\n",
      "Epoch 1/25\n",
      " - 3s - loss: 0.0032 - acc: 2.4319e-04\n",
      "Epoch 2/25\n",
      " - 1s - loss: 1.0061e-04 - acc: 2.4319e-04\n",
      "Epoch 3/25\n",
      " - 1s - loss: 8.0867e-05 - acc: 2.4319e-04\n",
      "Epoch 4/25\n",
      " - 1s - loss: 7.5640e-05 - acc: 2.4319e-04\n",
      "Epoch 5/25\n",
      " - 1s - loss: 7.2427e-05 - acc: 2.4319e-04\n",
      "Epoch 6/25\n",
      " - 2s - loss: 6.9620e-05 - acc: 2.4319e-04\n",
      "Epoch 7/25\n",
      " - 2s - loss: 6.7407e-05 - acc: 2.4319e-04\n",
      "Epoch 8/25\n",
      " - 2s - loss: 6.5149e-05 - acc: 2.4319e-04\n",
      "Epoch 9/25\n",
      " - 2s - loss: 6.3637e-05 - acc: 2.4319e-04\n",
      "Epoch 10/25\n",
      " - 2s - loss: 6.1612e-05 - acc: 2.4319e-04\n",
      "Epoch 11/25\n",
      " - 2s - loss: 6.0278e-05 - acc: 2.4319e-04\n",
      "Epoch 12/25\n",
      " - 1s - loss: 5.8780e-05 - acc: 2.4319e-04\n",
      "Epoch 13/25\n",
      " - 2s - loss: 5.7756e-05 - acc: 2.4319e-04\n",
      "Epoch 14/25\n",
      " - 2s - loss: 5.6364e-05 - acc: 2.4319e-04\n",
      "Epoch 15/25\n",
      " - 2s - loss: 5.5213e-05 - acc: 2.4319e-04\n",
      "Epoch 16/25\n",
      " - 2s - loss: 5.4404e-05 - acc: 2.4319e-04\n",
      "Epoch 17/25\n",
      " - 2s - loss: 5.3174e-05 - acc: 2.4319e-04\n",
      "Epoch 18/25\n",
      " - 2s - loss: 5.2192e-05 - acc: 2.4319e-04\n",
      "Epoch 19/25\n",
      " - 2s - loss: 5.1435e-05 - acc: 2.4319e-04\n",
      "Epoch 20/25\n",
      " - 2s - loss: 5.0770e-05 - acc: 2.4319e-04\n",
      "Epoch 21/25\n",
      " - 2s - loss: 4.9949e-05 - acc: 2.4319e-04\n",
      "Epoch 22/25\n",
      " - 2s - loss: 4.9217e-05 - acc: 2.4319e-04\n",
      "Epoch 23/25\n",
      " - 1s - loss: 4.8673e-05 - acc: 2.4319e-04\n",
      "Epoch 24/25\n",
      " - 1s - loss: 4.7848e-05 - acc: 2.4319e-04\n",
      "Epoch 25/25\n",
      " - 2s - loss: 4.7669e-05 - acc: 2.4319e-04\n",
      "Epoch 1/25\n",
      " - 4s - loss: 0.0033 - acc: 2.4319e-04\n",
      "Epoch 2/25\n",
      " - 2s - loss: 9.2510e-05 - acc: 2.4319e-04\n",
      "Epoch 3/25\n",
      " - 2s - loss: 7.2739e-05 - acc: 2.4319e-04\n",
      "Epoch 4/25\n",
      " - 2s - loss: 6.8984e-05 - acc: 2.4319e-04\n",
      "Epoch 5/25\n",
      " - 2s - loss: 6.6245e-05 - acc: 2.4319e-04\n",
      "Epoch 6/25\n",
      " - 2s - loss: 6.4463e-05 - acc: 2.4319e-04\n",
      "Epoch 7/25\n",
      " - 2s - loss: 6.2387e-05 - acc: 2.4319e-04\n",
      "Epoch 8/25\n",
      " - 1s - loss: 6.0756e-05 - acc: 2.4319e-04\n",
      "Epoch 9/25\n",
      " - 2s - loss: 5.9635e-05 - acc: 2.4319e-04\n",
      "Epoch 10/25\n",
      " - 2s - loss: 5.8144e-05 - acc: 2.4319e-04\n",
      "Epoch 11/25\n",
      " - 1s - loss: 5.7145e-05 - acc: 2.4319e-04\n",
      "Epoch 12/25\n",
      " - 2s - loss: 5.5642e-05 - acc: 2.4319e-04\n",
      "Epoch 13/25\n",
      " - 2s - loss: 5.4740e-05 - acc: 2.4319e-04\n",
      "Epoch 14/25\n",
      " - 2s - loss: 5.4000e-05 - acc: 2.4319e-04\n",
      "Epoch 15/25\n",
      " - 2s - loss: 5.2954e-05 - acc: 2.4319e-04\n",
      "Epoch 16/25\n",
      " - 2s - loss: 5.1863e-05 - acc: 2.4319e-04\n",
      "Epoch 17/25\n",
      " - 2s - loss: 5.1164e-05 - acc: 2.4319e-04\n",
      "Epoch 18/25\n",
      " - 2s - loss: 5.0439e-05 - acc: 2.4319e-04\n",
      "Epoch 19/25\n",
      " - 2s - loss: 4.9459e-05 - acc: 2.4319e-04\n",
      "Epoch 20/25\n",
      " - 2s - loss: 4.9083e-05 - acc: 2.4319e-04\n",
      "Epoch 21/25\n",
      " - 2s - loss: 4.8555e-05 - acc: 2.4319e-04\n",
      "Epoch 22/25\n",
      " - 2s - loss: 4.7954e-05 - acc: 2.4319e-04\n",
      "Epoch 23/25\n",
      " - 2s - loss: 4.7482e-05 - acc: 2.4319e-04\n",
      "Epoch 24/25\n",
      " - 2s - loss: 4.7194e-05 - acc: 2.4319e-04\n",
      "Epoch 25/25\n",
      " - 2s - loss: 4.6520e-05 - acc: 2.4319e-04\n"
     ]
    }
   ],
   "source": [
    "# MODEL COMPILING AND TRAINING\n",
    "model_OHLC.compile(loss='mse', optimizer='adagrad',metrics=['accuracy']) # Try SGD, adam, adagrad and compare!!!\n",
    "model_OHLC.fit(trainX_close, trainY_close, epochs=25, batch_size=10, verbose=2)\n",
    "\n",
    "testPredict_close_OHLC = model_OHLC.predict(testX_close)\n",
    "testPredict_open_OHLC = model_OHLC.predict(testX_open)\n",
    "\n",
    "model_close.compile(loss='mse', optimizer='adagrad',metrics=['accuracy']) # Try SGD, adam, adagrad and compare!!!\n",
    "model_close.fit(trainX_close, trainY_close, epochs=25, batch_size=10, verbose=2)\n",
    "\n",
    "testPredict_close_close = model_close.predict(testX_close)\n",
    "\n",
    "model_open.compile(loss='mse', optimizer='adagrad',metrics=['accuracy']) # Try SGD, adam, adagrad and compare!!!\n",
    "model_open.fit(trainX_open, trainY_open, epochs=25, batch_size=10, verbose=2)\n",
    "\n",
    "testPredict_open_open = model_open.predict(testX_open)\n",
    "\n",
    "trainPredict = model_OHLC.predict(trainX_close)"
   ]
  },
  {
   "cell_type": "markdown",
   "metadata": {},
   "source": [
    "Compute the daily labels based on predicted values of opening and closing prices"
   ]
  },
  {
   "cell_type": "code",
   "execution_count": 21,
   "metadata": {},
   "outputs": [],
   "source": [
    "#classify \n",
    "classes_pre =preprocessing.classify(testPredict_close_close,testPredict_open_open)\n",
    "classes_pre = np.asarray(classes_pre)\n",
    "classes_pre_OHLC =preprocessing.classify(testPredict_close_OHLC,testPredict_open_OHLC)\n",
    "classes_pre_OHLC = np.asarray(classes_pre_OHLC)\n",
    "accuracy_classes = preprocessing.accuracy(test_classes[:len(classes_pre)],classes_pre)\n",
    "accuracy_classes_OHLC = preprocessing.accuracy(test_classes[:len(classes_pre_OHLC)],classes_pre_OHLC)\n",
    "#classes_s = classes_s.reindex(index = classes_s.index[::-1])"
   ]
  },
  {
   "cell_type": "markdown",
   "metadata": {},
   "source": []
  },
  {
   "cell_type": "code",
   "execution_count": 22,
   "metadata": {},
   "outputs": [
    {
     "name": "stdout",
     "output_type": "stream",
     "text": [
      "Train RMSE: 24.02\n",
      "Test RMSE: 50.43\n"
     ]
    },
    {
     "data": {
      "image/png": "[encoded data removed]",
      "text/plain": [
       "<matplotlib.figure.Figure at 0x18d1034358>"
      ]
     },
     "metadata": {},
     "output_type": "display_data"
    },
    {
     "name": "stdout",
     "output_type": "stream",
     "text": [
      "Last Day Value: 2685.3388671875\n",
      "Next Day Value: 2816.292724609375\n",
      "Close_Model and Open_Model Accuracy :  94.9268292683\n",
      "OHLC_Model Accuracy :  96.0\n"
     ]
    }
   ],
   "source": [
    "## DE-NORMALIZING FOR PLOTTING\n",
    "trainPredict = scaler.inverse_transform(trainPredict)\n",
    "testPredict = scaler.inverse_transform(testPredict_close_OHLC)\n",
    "###\n",
    "trainY_close = scaler.inverse_transform([trainY_close])\n",
    "testY_close = scaler.inverse_transform([testY_close])\n",
    "\n",
    "#trainY_OHLC = scaler.inverse_transform([trainY_OHLC])\n",
    "#testY_OHLC = scaler.inverse_transform([testY_OHLC])\n",
    "#\n",
    "#trainY_open = scaler.inverse_transform([trainY_open])\n",
    "#testY_open = scaler.inverse_transform([testY_open])\n",
    "\n",
    "\n",
    "# TRAINING RMSE\n",
    "trainScore = math.sqrt(mean_squared_error(trainY_close[0], trainPredict[:,0]))\n",
    "#trainScore = math.sqrt(mean_squared_error(trainY_OHLC[0], trainPredict[:,0]))\n",
    "#trainScore = math.sqrt(mean_squared_error(trainY_open[0], trainPredict[:,0]))\n",
    "print('Train RMSE: %.2f' % (trainScore))\n",
    "\n",
    "# TEST RMSE\n",
    "testScore = math.sqrt(mean_squared_error(testY_close[0], testPredict[:,0]))\n",
    "#testScore = math.sqrt(mean_squared_error(testY_OHLC[0], testPredict[:,0]))\n",
    "#testScore = math.sqrt(mean_squared_error(testY_open[0], testPredict[:,0]))\n",
    "print('Test RMSE: %.2f' % (testScore))\n",
    "\n",
    "# CREATING SIMILAR DATASET TO PLOT TRAINING PREDICTIONS\n",
    "trainPredictPlot = np.empty_like(close_val)\n",
    "#trainPredictPlot = np.empty_like(OHLC_avg)\n",
    "#trainPredictPlot = np.empty_like(open_val)\n",
    "trainPredictPlot[:, :] = np.nan\n",
    "trainPredictPlot[step_size:len(trainPredict)+step_size, :] = trainPredict\n",
    "\n",
    "\n",
    "# CREATING SIMILAR DATASSET TO PLOT TEST PREDICTIONS\n",
    "testPredictPlot = np.empty_like(close_val)\n",
    "#testPredictPlot = np.empty_like(OHLC_avg)\n",
    "#testPredictPlot = np.empty_like(open_val)\n",
    "testPredictPlot[:, :] = np.nan\n",
    "testPredictPlot[len(trainPredict)+(step_size*2)+1:len(close_val)-1, :] = testPredict\n",
    "#testPredictPlot[len(trainPredict)+(step_size*2)+1:len(OHLC_avg)-1, :] = testPredict\n",
    "#testPredictPlot[len(trainPredict)+(step_size*2)+1:len(open_val)-1, :] = testPredict\n",
    "\n",
    "\n",
    "\n",
    "# DE-NORMALIZING MAIN DATASET \n",
    "close_val = scaler.inverse_transform(close_val)\n",
    "OHLC_avg = scaler.inverse_transform(OHLC_avg)\n",
    "#open_val = scaler.inverse_transform(open_val)\n",
    "\n",
    "# PLOT OF MAIN OHLC VALUES, TRAIN PREDICTIONS AND TEST PREDICTIONS\n",
    "plt.plot(OHLC_avg, 'g', label = 'original dataset')\n",
    "plt.plot(trainPredictPlot, 'r', label = 'training set')\n",
    "plt.plot(testPredictPlot, 'b', label = 'predicted stock price/test set')\n",
    "plt.legend(loc = 'upper right')\n",
    "plt.xlabel('Time in Days')\n",
    "plt.ylabel('OHLC Value of Apple Stocks')\n",
    "plt.show()\n",
    "\n",
    "\n",
    "# PREDICT FUTURE VALUES\n",
    "last_val = testPredict[-1]\n",
    "last_val_scaled = last_val/last_val\n",
    "next_val = model_OHLC.predict(np.reshape(last_val_scaled, (1,1,1)))\n",
    "print(\"Last Day Value:\", np.asscalar(last_val))\n",
    "print(\"Next Day Value:\", np.asscalar(last_val*next_val))\n",
    "print(\"Close_Model and Open_Model Accuracy : \",accuracy_classes)\n",
    "print(\"OHLC_Model Accuracy : \",accuracy_classes_OHLC)\n",
    "\n",
    "# print np.append(last_val, next_val)\n"
   ]
  },
  {
   "cell_type": "markdown",
   "metadata": {},
   "source": [
    "Classification accuracy for models build using opening and closing prices : 94.92 % \n",
    "Classification accuracy for model built using the daily OHLC average price  : 96.00 % "
   ]
  }
 ],
 "metadata": {
  "kernelspec": {
   "display_name": "Python 3",
   "language": "python",
   "name": "python3"
  },
  "language_info": {
   "codemirror_mode": {
    "name": "ipython",
    "version": 3
   },
   "file_extension": ".py",
   "mimetype": "text/x-python",
   "name": "python",
   "nbconvert_exporter": "python",
   "pygments_lexer": "ipython3",
   "version": "3.6.3"
  }
 },
 "nbformat": 4,
 "nbformat_minor": 2
}
