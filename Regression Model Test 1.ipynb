{
 "cells": [
  {
   "cell_type": "markdown",
   "metadata": {},
   "source": [
    "Author: Sid Ali Rezetane\n",
    "\n",
    "THIS ALGORITHM TRIES TO PREDICT POSSIBLE ACTION ( BUY \"TOMORROW\" STOCK SHARES, OR NOT ) BASED ON THE PREVIOUS PRICES\n",
    "THIS IS FIRST ATTEMPT, DONE BY A REGRESSION MODEL ( PREDICT FUTURE PRICE THEN CLASSIFY IT )\n",
    "\n",
    "NOTE: The DATASET IS REINDEXED IF NEEDED TO TEST ACCURACY\n",
    "      95% ACCURACY IS ACHIEVED, \n",
    "\n",
    "Import all relative and required libraries as follows "
   ]
  },
  {
   "cell_type": "code",
   "execution_count": 11,
   "metadata": {},
   "outputs": [],
   "source": [
    "# IMPORTING IMPORTANT LIBRARIES\n",
    "import pandas as pd\n",
    "import matplotlib.pyplot as plt\n",
    "import numpy as np \n",
    "import math\n",
    "from sklearn.preprocessing import MinMaxScaler\n",
    "from sklearn.metrics import mean_squared_error\n",
    "from keras.models import Sequential\n",
    "from keras.layers import Dense, Activation\n",
    "from keras.layers import LSTM\n",
    "import preprocessing"
   ]
  },
  {
   "cell_type": "markdown",
   "metadata": {},
   "source": [
    "import data, identify relevant parts of it, identify parameteres as step_size"
   ]
  },
  {
   "cell_type": "code",
   "execution_count": 12,
   "metadata": {},
   "outputs": [],
   "source": [
    "step_size = 1\n",
    "# FOR REPRODUCIBILITY\n",
    "np.random.seed(7)\n",
    "\n",
    "# IMPORTING DATASET \n",
    "dataset = pd.read_csv('prova.csv', usecols=[1,2,3,4,5,6,7])\n",
    "#dataset = dataset.reindex(index = dataset.index[::-1])\n",
    "\n",
    "# CREATING OWN INDEX FOR FLEXIBILITY\n",
    "obs = np.arange(1, len(dataset) + 1, 1)\n",
    "\n",
    "# TAKING DIFFERENT INDICATORS FOR PREDICTION\n",
    "#OHLC_avg = dataset.mean(axis = 1)\n",
    "OHLC_avg =  dataset[['OHLC_avg']]\n",
    "HLC_avg = dataset[['High', 'Low', 'Close']].mean(axis = 1)\n",
    "close_val = dataset[['Close']]\n",
    "open_val = dataset[['Open']]\n",
    "classes =  dataset[['Label']]"
   ]
  },
  {
   "cell_type": "markdown",
   "metadata": {},
   "source": [
    "plot data"
   ]
  },
  {
   "cell_type": "code",
   "execution_count": 13,
   "metadata": {},
   "outputs": [
    {
     "data": {
      "image/png": "[encoded data removed]",
      "text/plain": [
       "<matplotlib.figure.Figure at 0xb5dc672898>"
      ]
     },
     "metadata": {},
     "output_type": "display_data"
    }
   ],
   "source": [
    "# PLOTTING ALL INDICATORS IN ONE PLOT\n",
    "plt.plot(obs, OHLC_avg, 'r', label = 'OHLC avg')\n",
    "plt.plot(obs, open_val, 'b', label = 'Opening Price')\n",
    "plt.plot(obs, close_val, 'g', label = 'Closing price')\n",
    "plt.legend(loc = 'upper right')\n",
    "plt.show()"
   ]
  },
  {
   "cell_type": "markdown",
   "metadata": {},
   "source": [
    "Prepare data : reshape and scale down "
   ]
  },
  {
   "cell_type": "code",
   "execution_count": 14,
   "metadata": {},
   "outputs": [],
   "source": [
    "# PREPARATION OF TIME SERIES DATASE\n",
    "OHLC_avg = np.reshape(OHLC_avg.values, (len(OHLC_avg),1)) \n",
    "close_val = np.reshape(close_val.values, (len(close_val),1))\n",
    "open_val = np.reshape(open_val.values, (len(open_val),1)) \n",
    "scaler = MinMaxScaler(feature_range=(0, 1))\n",
    "OHLC_avg = scaler.fit_transform(OHLC_avg)\n",
    "close_val = scaler.fit_transform(close_val)\n",
    "open_val = scaler.fit_transform(open_val)\n",
    "classes = np.reshape(classes.values, len(close_val))"
   ]
  },
  {
   "cell_type": "markdown",
   "metadata": {},
   "source": [
    "Split data : 75% for training 25% for testing\n",
    "change it to time series data\n",
    "and reshape it"
   ]
  },
  {
   "cell_type": "code",
   "execution_count": 15,
   "metadata": {},
   "outputs": [],
   "source": [
    "## TRAIN-TEST SPLIT\n",
    "train_OHLCs = int(len(OHLC_avg) * 0.8)\n",
    "test_OHLCs = len(OHLC_avg) - train_OHLCs\n",
    "train_classes , test_classes = classes[0:train_OHLCs] ,classes[train_OHLCs:len(OHLC_avg)-1] \n",
    "train_OHLC, test_OHLC = OHLC_avg[0:train_OHLCs,:], OHLC_avg[train_OHLCs:len(OHLC_avg),:]\n",
    "train_close, test_close = close_val[0:train_OHLCs,:], close_val[train_OHLCs:len(OHLC_avg),:]\n",
    "train_open, test_open = open_val[0:train_OHLCs,:], open_val[train_OHLCs:len(OHLC_avg),:]\n",
    "#\n",
    "# TIME-SERIES DATASET (FOR TIME T, VALUES FOR TIME T+1)\n",
    "trainX_OHLC, trainY_OHLC = preprocessing.new_dataset(train_OHLC, step_size)\n",
    "testX_OHLC, testY_OHLC = preprocessing.new_dataset(test_OHLC, step_size)\n",
    "\n",
    "trainX_close, trainY_close = preprocessing.new_dataset(train_close, step_size)\n",
    "testX_close, testY_close = preprocessing.new_dataset(test_close, step_size)\n",
    "\n",
    "trainX_open, trainY_open = preprocessing.new_dataset(train_open, step_size)\n",
    "testX_open, testY_open = preprocessing.new_dataset(test_open, step_size)\n",
    "\n",
    "# RESHAPING TRAIN AND TEST DATA\n",
    "trainX_OHLC = np.reshape(trainX_OHLC, (trainX_OHLC.shape[0], 1, trainX_OHLC.shape[1]))\n",
    "testX_OHLC = np.reshape(testX_OHLC, (testX_OHLC.shape[0], 1, testX_OHLC.shape[1]))\n",
    "\n",
    "trainX_close = np.reshape(trainX_close, (trainX_close.shape[0], 1, trainX_close.shape[1]))\n",
    "testX_close = np.reshape(testX_close, (testX_close.shape[0], 1, testX_close.shape[1]))\n",
    "\n",
    "trainX_open = np.reshape(trainX_open, (trainX_open.shape[0], 1, trainX_open.shape[1]))\n",
    "testX_open = np.reshape(testX_open, (testX_open.shape[0], 1, testX_open.shape[1]))\n",
    "#"
   ]
  },
  {
   "cell_type": "markdown",
   "metadata": {},
   "source": [
    "set the network model, compile it and fit it to training data"
   ]
  },
  {
   "cell_type": "code",
   "execution_count": 16,
   "metadata": {},
   "outputs": [
    {
     "name": "stdout",
     "output_type": "stream",
     "text": [
      "Epoch 1/50\n",
      " - 3s - loss: 0.0028\n",
      "Epoch 2/50\n",
      " - 1s - loss: 7.9579e-05\n",
      "Epoch 3/50\n",
      " - 1s - loss: 6.8408e-05\n",
      "Epoch 4/50\n",
      " - 2s - loss: 6.5498e-05\n",
      "Epoch 5/50\n",
      " - 1s - loss: 6.3400e-05\n",
      "Epoch 6/50\n",
      " - 2s - loss: 6.1448e-05\n",
      "Epoch 7/50\n",
      " - 1s - loss: 5.9423e-05\n",
      "Epoch 8/50\n",
      " - 1s - loss: 5.7885e-05\n",
      "Epoch 9/50\n",
      " - 1s - loss: 5.6318e-05\n",
      "Epoch 10/50\n",
      " - 1s - loss: 5.5173e-05\n",
      "Epoch 11/50\n",
      " - 1s - loss: 5.4001e-05\n",
      "Epoch 12/50\n",
      " - 1s - loss: 5.2927e-05\n",
      "Epoch 13/50\n",
      " - 1s - loss: 5.1659e-05\n",
      "Epoch 14/50\n",
      " - 1s - loss: 5.0979e-05\n",
      "Epoch 15/50\n",
      " - 1s - loss: 4.9952e-05\n",
      "Epoch 16/50\n",
      " - 2s - loss: 4.9098e-05\n",
      "Epoch 17/50\n",
      " - 1s - loss: 4.8298e-05\n",
      "Epoch 18/50\n",
      " - 1s - loss: 4.7546e-05\n",
      "Epoch 19/50\n",
      " - 1s - loss: 4.6823e-05\n",
      "Epoch 20/50\n",
      " - 1s - loss: 4.6276e-05\n",
      "Epoch 21/50\n",
      " - 1s - loss: 4.5882e-05\n",
      "Epoch 22/50\n",
      " - 1s - loss: 4.5103e-05\n",
      "Epoch 23/50\n",
      " - 1s - loss: 4.4551e-05\n",
      "Epoch 24/50\n",
      " - 1s - loss: 4.3920e-05\n",
      "Epoch 25/50\n",
      " - 1s - loss: 4.3789e-05\n",
      "Epoch 26/50\n",
      " - 1s - loss: 4.3098e-05\n",
      "Epoch 27/50\n",
      " - 1s - loss: 4.2835e-05\n",
      "Epoch 28/50\n",
      " - 1s - loss: 4.2380e-05\n",
      "Epoch 29/50\n",
      " - 1s - loss: 4.1906e-05\n",
      "Epoch 30/50\n",
      " - 1s - loss: 4.1557e-05\n",
      "Epoch 31/50\n",
      " - 1s - loss: 4.1320e-05\n",
      "Epoch 32/50\n",
      " - 1s - loss: 4.1004e-05\n",
      "Epoch 33/50\n",
      " - 1s - loss: 4.0741e-05\n",
      "Epoch 34/50\n",
      " - 1s - loss: 4.0482e-05\n",
      "Epoch 35/50\n",
      " - 1s - loss: 4.0303e-05\n",
      "Epoch 36/50\n",
      " - 1s - loss: 4.0184e-05\n",
      "Epoch 37/50\n",
      " - 1s - loss: 3.9937e-05\n",
      "Epoch 38/50\n",
      " - 1s - loss: 3.9938e-05\n",
      "Epoch 39/50\n",
      " - 2s - loss: 3.9692e-05\n",
      "Epoch 40/50\n",
      " - 2s - loss: 3.9743e-05\n",
      "Epoch 41/50\n",
      " - 2s - loss: 3.9511e-05\n",
      "Epoch 42/50\n",
      " - 2s - loss: 3.9532e-05\n",
      "Epoch 43/50\n",
      " - 2s - loss: 3.9284e-05\n",
      "Epoch 44/50\n",
      " - 2s - loss: 3.9352e-05\n",
      "Epoch 45/50\n",
      " - 2s - loss: 3.9344e-05\n",
      "Epoch 46/50\n",
      " - 2s - loss: 3.9060e-05\n",
      "Epoch 47/50\n",
      " - 2s - loss: 3.9291e-05\n",
      "Epoch 48/50\n",
      " - 1s - loss: 3.9113e-05\n",
      "Epoch 49/50\n",
      " - 2s - loss: 3.9101e-05\n",
      "Epoch 50/50\n",
      " - 2s - loss: 3.9130e-05\n"
     ]
    },
    {
     "data": {
      "text/plain": [
       "<keras.callbacks.History at 0xb5e2c41198>"
      ]
     },
     "execution_count": 16,
     "metadata": {},
     "output_type": "execute_result"
    }
   ],
   "source": [
    "# LSTM MODEL\n",
    "model = Sequential()\n",
    "model.add(LSTM(64, input_shape=(1, step_size), return_sequences = True))\n",
    "model.add(Activation('relu'))\n",
    "model.add(LSTM(32))\n",
    "model.add(Dense(1))\n",
    "#model.add(Activation('relu'))\n",
    "model.add(Activation('linear'))\n",
    "\n",
    "# MODEL COMPILING AND TRAINING\n",
    "model.compile(loss='mse', optimizer='adagrad') # Try SGD, adam, adagrad and compare!!!\n",
    "model.fit(trainX_close, trainY_close, epochs=50, batch_size=10, verbose=2)\n",
    "#model.fit(trainX_OHLC, trainY_OHLC, epochs=5, batch_size=1, verbose=2)\n",
    "#model.fit(trainX_OHLC, trainY_OHLC, epochs=5, batch_size=1, verbose=2)"
   ]
  },
  {
   "cell_type": "markdown",
   "metadata": {},
   "source": [
    "Predict future values and conclude classes, then compute error by comparing to True classes"
   ]
  },
  {
   "cell_type": "code",
   "execution_count": 17,
   "metadata": {},
   "outputs": [
    {
     "name": "stdout",
     "output_type": "stream",
     "text": [
      "Classification accuracy is : 96.5853658537\n"
     ]
    }
   ],
   "source": [
    "# PREDICTION\n",
    "####\n",
    "trainPredict = model.predict(trainX_close)\n",
    "testPredict = model.predict(testX_close)\n",
    "testPredict_open = model.predict(testX_open)\n",
    "\n",
    "#classify \n",
    "classes_pre =preprocessing.classify(testPredict,testPredict_open)\n",
    "classes_pre = np.asarray(classes_pre)\n",
    "accuracy = preprocessing.accuracy(test_classes[:len(classes_pre)],classes_pre)\n",
    "print('Classification accuracy is :',accuracy)"
   ]
  },
  {
   "cell_type": "code",
   "execution_count": 18,
   "metadata": {},
   "outputs": [],
   "source": [
    "# DE-NORMALIZING FOR PLOTTING\n",
    "trainPredict = scaler.inverse_transform(trainPredict)\n",
    "testPredict = scaler.inverse_transform(testPredict)\n",
    "###\n",
    "trainY_close = scaler.inverse_transform([trainY_close])\n",
    "testY_close = scaler.inverse_transform([testY_close])\n",
    "\n",
    "#trainY_OHLC = scaler.inverse_transform([trainY_OHLC])\n",
    "#testY_OHLC = scaler.inverse_transform([testY_OHLC])\n",
    "#\n",
    "#trainY_open = scaler.inverse_transform([trainY_open])\n",
    "#testY_open = scaler.inverse_transform([testY_open])"
   ]
  },
  {
   "cell_type": "code",
   "execution_count": 19,
   "metadata": {},
   "outputs": [
    {
     "name": "stdout",
     "output_type": "stream",
     "text": [
      "Train RMSE: 15.64\n",
      "Test RMSE: 19.82\n"
     ]
    },
    {
     "data": {
      "image/png": "[encoded data removed]",
      "text/plain": [
       "<matplotlib.figure.Figure at 0xb5e6fb2dd8>"
      ]
     },
     "metadata": {},
     "output_type": "display_data"
    },
    {
     "name": "stdout",
     "output_type": "stream",
     "text": [
      "Last Day Value: 2619.055908203125\n",
      "Next Day Value: 2647.2236328125\n"
     ]
    }
   ],
   "source": [
    "\n",
    "# TRAINING RMSE\n",
    "trainScore = math.sqrt(mean_squared_error(trainY_close[0], trainPredict[:,0]))\n",
    "#trainScore = math.sqrt(mean_squared_error(trainY_OHLC[0], trainPredict[:,0]))\n",
    "#trainScore = math.sqrt(mean_squared_error(trainY_open[0], trainPredict[:,0]))\n",
    "print('Train RMSE: %.2f' % (trainScore))\n",
    "\n",
    "# TEST RMSE\n",
    "testScore = math.sqrt(mean_squared_error(testY_close[0], testPredict[:,0]))\n",
    "#testScore = math.sqrt(mean_squared_error(testY_OHLC[0], testPredict[:,0]))\n",
    "#testScore = math.sqrt(mean_squared_error(testY_open[0], testPredict[:,0]))\n",
    "print('Test RMSE: %.2f' % (testScore))\n",
    "\n",
    "# CREATING SIMILAR DATASET TO PLOT TRAINING PREDICTIONS\n",
    "trainPredictPlot = np.empty_like(close_val)\n",
    "#trainPredictPlot = np.empty_like(OHLC_avg)\n",
    "#trainPredictPlot = np.empty_like(open_val)\n",
    "trainPredictPlot[:, :] = np.nan\n",
    "trainPredictPlot[step_size:len(trainPredict)+step_size, :] = trainPredict\n",
    "\n",
    "\n",
    "# CREATING SIMILAR DATASSET TO PLOT TEST PREDICTIONS\n",
    "testPredictPlot = np.empty_like(close_val)\n",
    "#testPredictPlot = np.empty_like(OHLC_avg)\n",
    "#testPredictPlot = np.empty_like(open_val)\n",
    "testPredictPlot[:, :] = np.nan\n",
    "testPredictPlot[len(trainPredict)+(step_size*2)+1:len(close_val)-1, :] = testPredict\n",
    "#testPredictPlot[len(trainPredict)+(step_size*2)+1:len(OHLC_avg)-1, :] = testPredict\n",
    "#testPredictPlot[len(trainPredict)+(step_size*2)+1:len(open_val)-1, :] = testPredict\n",
    "\n",
    "\n",
    "\n",
    "# DE-NORMALIZING MAIN DATASET \n",
    "close_val = scaler.inverse_transform(close_val)\n",
    "OHLC_avg = scaler.inverse_transform(OHLC_avg)\n",
    "#open_val = scaler.inverse_transform(open_val)\n",
    "\n",
    "# PLOT OF MAIN OHLC VALUES, TRAIN PREDICTIONS AND TEST PREDICTIONS\n",
    "plt.plot(OHLC_avg, 'g', label = 'original dataset')\n",
    "plt.plot(trainPredictPlot, 'r', label = 'training set')\n",
    "plt.plot(testPredictPlot, 'b', label = 'predicted stock price/test set')\n",
    "plt.legend(loc = 'upper right')\n",
    "plt.xlabel('Time in Days')\n",
    "plt.ylabel('OHLC Value of Apple Stocks')\n",
    "plt.show()\n",
    "\n",
    "\n",
    "# PREDICT FUTURE VALUES\n",
    "last_val = testPredict[-1]\n",
    "last_val_scaled = last_val/last_val\n",
    "next_val = model.predict(np.reshape(last_val_scaled, (1,1,1)))\n",
    "print(\"Last Day Value:\", np.asscalar(last_val))\n",
    "print(\"Next Day Value:\", np.asscalar(last_val*next_val))\n",
    "# print np.append(last_val, next_val)\n"
   ]
  },
  {
   "cell_type": "markdown",
   "metadata": {},
   "source": []
  }
 ],
 "metadata": {
  "kernelspec": {
   "display_name": "Python 3",
   "language": "python",
   "name": "python3"
  },
  "language_info": {
   "codemirror_mode": {
    "name": "ipython",
    "version": 3
   },
   "file_extension": ".py",
   "mimetype": "text/x-python",
   "name": "python",
   "nbconvert_exporter": "python",
   "pygments_lexer": "ipython3",
   "version": "3.6.3"
  }
 },
 "nbformat": 4,
 "nbformat_minor": 2
}
